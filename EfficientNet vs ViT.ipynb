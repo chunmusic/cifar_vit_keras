{
 "cells": [
  {
   "cell_type": "code",
   "execution_count": 1,
   "id": "b1ff40eb",
   "metadata": {},
   "outputs": [],
   "source": [
    "import os\n",
    "os.environ['PYTHONHASHSEED'] = '0'\n",
    "import tensorflow as tf\n",
    "\n",
    "import numpy as np\n",
    "import random as rn"
   ]
  },
  {
   "cell_type": "code",
   "execution_count": 2,
   "id": "6ca9c269",
   "metadata": {},
   "outputs": [],
   "source": [
    "SEED = 123\n",
    "def reset_random_seeds():\n",
    "    tf.random.set_seed(SEED)\n",
    "    np.random.seed(SEED)\n",
    "    rn.seed(SEED)\n",
    "\n",
    "reset_random_seeds()"
   ]
  },
  {
   "cell_type": "code",
   "execution_count": 3,
   "id": "889c2d10",
   "metadata": {},
   "outputs": [],
   "source": [
    "import pandas as pd\n",
    "\n",
    "from tensorflow.keras.models import Sequential\n",
    "from tensorflow.keras.layers import Dense, GlobalAveragePooling2D,BatchNormalization,Flatten\n",
    "from tensorflow.keras.utils import to_categorical\n",
    "from tensorflow.keras.preprocessing.image import ImageDataGenerator\n",
    "\n",
    "from efficientnet.tfkeras import EfficientNetB7 #使用するモデルにあわせて変更する（B0~B7） \n",
    "from tensorflow.keras import optimizers\n",
    "from tensorflow.keras.callbacks import ReduceLROnPlateau, EarlyStopping\n",
    "import tensorflow_addons as tfa\n",
    "\n",
    "from vit_keras import vit, utils\n",
    "\n",
    "from sklearn.model_selection import train_test_split\n",
    "from tensorflow.keras.datasets import cifar10\n",
    "import datetime"
   ]
  },
  {
   "cell_type": "code",
   "execution_count": 4,
   "id": "9106b6f4",
   "metadata": {},
   "outputs": [],
   "source": [
    "(x_train, y_train), (x_test, y_test) = cifar10.load_data()"
   ]
  },
  {
   "cell_type": "code",
   "execution_count": 5,
   "id": "4f161979",
   "metadata": {},
   "outputs": [],
   "source": [
    "image_size = 32\n",
    "input_shape=(image_size,image_size,3)\n",
    "num_classes = 10 "
   ]
  },
  {
   "cell_type": "code",
   "execution_count": 6,
   "id": "72de2b4e",
   "metadata": {},
   "outputs": [],
   "source": [
    "def buildModel():\n",
    "    model = Sequential()\n",
    "    model.add(EfficientNetB7(include_top=False,\n",
    "                             weights='imagenet',\n",
    "                             input_shape=input_shape))\n",
    "    model.add(GlobalAveragePooling2D())\n",
    "    model.add(Dense(num_classes, activation=\"softmax\"))\n",
    "    \n",
    "    model.compile(optimizer=optimizers.Adam(learning_rate=1e-4), \n",
    "                  loss=\"categorical_crossentropy\", \n",
    "                  metrics=[\"accuracy\"])\n",
    "    \n",
    "    return model"
   ]
  },
  {
   "cell_type": "code",
   "execution_count": 7,
   "id": "4d985985",
   "metadata": {},
   "outputs": [],
   "source": [
    "def buildModel_ViT():\n",
    "    vit_model = vit.vit_b16( \n",
    "                image_size = image_size,\n",
    "                activation = 'sigmoid',\n",
    "                pretrained = True,\n",
    "                include_top = False,\n",
    "                pretrained_top = False)\n",
    "    model = tf.keras.Sequential([\n",
    "        vit_model,\n",
    "        tf.keras.layers.Flatten(),\n",
    "        tf.keras.layers.BatchNormalization(),\n",
    "        tf.keras.layers.Dense(21, activation = tfa.activations.gelu),\n",
    "        tf.keras.layers.BatchNormalization(),\n",
    "        tf.keras.layers.Dense(num_classes, 'softmax')\n",
    "        ],name = 'vision_transformer')\n",
    "    \n",
    "    model.compile(optimizer=optimizers.Adam(learning_rate=1e-4), \n",
    "                  loss=\"categorical_crossentropy\", \n",
    "                  metrics=[\"accuracy\"])\n",
    "    \n",
    "    return model"
   ]
  },
  {
   "cell_type": "code",
   "execution_count": 8,
   "id": "0f9019d8",
   "metadata": {},
   "outputs": [],
   "source": [
    "def train_efficientnet(X, y, steps_per_epoch, epochs, batch_size, callbacks):\n",
    "\n",
    "    X_train, X_valid, y_train, y_valid = train_test_split(X, y, test_size=0.2, stratify=y, shuffle=True)\n",
    "    y_train = to_categorical(y_train)\n",
    "    y_valid = to_categorical(y_valid)\n",
    "\n",
    "    datagen = ImageDataGenerator(rotation_range=20, \n",
    "                                 horizontal_flip=True, \n",
    "                                 width_shift_range=0.2, \n",
    "                                 zoom_range=0.2)\n",
    "    \n",
    "    train_generator = datagen.flow(X_train, y_train,batch_size=batch_size)\n",
    "\n",
    "    model = buildModel()\n",
    "\n",
    "    history = model.fit_generator(train_generator,\n",
    "                        steps_per_epoch=steps_per_epoch,\n",
    "                        epochs=epochs,\n",
    "                        validation_data=(X_valid, y_valid),\n",
    "                        callbacks=callbacks,\n",
    "                        shuffle=True)\n",
    "    \n",
    "    return model, history"
   ]
  },
  {
   "cell_type": "code",
   "execution_count": 9,
   "id": "94129d59",
   "metadata": {},
   "outputs": [],
   "source": [
    "def train_vit(X, y, steps_per_epoch, epochs, batch_size, callbacks):\n",
    "    \n",
    "    X_train, X_valid, y_train, y_valid = train_test_split(X, y, test_size=0.2, stratify=y, shuffle=True)\n",
    "    y_train = to_categorical(y_train)\n",
    "    y_valid = to_categorical(y_valid)\n",
    "    \n",
    "    datagen = ImageDataGenerator(rotation_range=20, \n",
    "                                 horizontal_flip=True, \n",
    "                                 width_shift_range=0.2, \n",
    "                                 zoom_range=0.2)\n",
    "    \n",
    "    train_generator = datagen.flow(X_train, y_train,batch_size=batch_size)\n",
    "        \n",
    "    model = buildModel_ViT()\n",
    "\n",
    "    history = model.fit_generator(train_generator,\n",
    "                        steps_per_epoch=steps_per_epoch,\n",
    "                        epochs=epochs,\n",
    "                        validation_data=(X_valid, y_valid),\n",
    "                        callbacks=callbacks,\n",
    "                        shuffle=True)\n",
    "    \n",
    "    return model, history"
   ]
  },
  {
   "cell_type": "markdown",
   "id": "14c3d0d1",
   "metadata": {},
   "source": [
    "### Train EfficientNet"
   ]
  },
  {
   "cell_type": "code",
   "execution_count": 10,
   "id": "3c7693c0",
   "metadata": {},
   "outputs": [
    {
     "name": "stdout",
     "output_type": "stream",
     "text": [
      "Starting Time： 2021-05-16 15:30:57.181974\n",
      "Downloading data from https://github.com/Callidior/keras-applications/releases/download/efficientnet/efficientnet-b7_weights_tf_dim_ordering_tf_kernels_autoaugment_notop.h5\n",
      "258441216/258434480 [==============================] - 16s 0us/step\n"
     ]
    },
    {
     "name": "stderr",
     "output_type": "stream",
     "text": [
      "/home/pongsakorn/tensorflow2/lib/python3.6/site-packages/tensorflow/python/keras/engine/training.py:1844: UserWarning: `Model.fit_generator` is deprecated and will be removed in a future version. Please use `Model.fit`, which supports generators.\n",
      "  warnings.warn('`Model.fit_generator` is deprecated and '\n"
     ]
    },
    {
     "name": "stdout",
     "output_type": "stream",
     "text": [
      "Epoch 1/1000\n",
      "1250/1250 [==============================] - 332s 245ms/step - loss: 2.0138 - accuracy: 0.2672 - val_loss: 1.1831 - val_accuracy: 0.5849\n",
      "Epoch 2/1000\n",
      "1250/1250 [==============================] - 303s 242ms/step - loss: 1.3127 - accuracy: 0.5409 - val_loss: 0.8599 - val_accuracy: 0.7121\n",
      "Epoch 3/1000\n",
      "1250/1250 [==============================] - 303s 243ms/step - loss: 1.0429 - accuracy: 0.6427 - val_loss: 0.6915 - val_accuracy: 0.7751\n",
      "Epoch 4/1000\n",
      "1250/1250 [==============================] - 305s 244ms/step - loss: 0.8940 - accuracy: 0.6946 - val_loss: 0.6030 - val_accuracy: 0.7988\n",
      "Epoch 5/1000\n",
      "1250/1250 [==============================] - 306s 245ms/step - loss: 0.7964 - accuracy: 0.7267 - val_loss: 0.5832 - val_accuracy: 0.8036\n",
      "Epoch 6/1000\n",
      "1250/1250 [==============================] - 307s 246ms/step - loss: 0.7012 - accuracy: 0.7646 - val_loss: 0.4973 - val_accuracy: 0.8320\n",
      "Epoch 7/1000\n",
      "1250/1250 [==============================] - 307s 245ms/step - loss: 0.6479 - accuracy: 0.7820 - val_loss: 0.4757 - val_accuracy: 0.8462\n",
      "Epoch 8/1000\n",
      "1250/1250 [==============================] - 307s 246ms/step - loss: 0.5968 - accuracy: 0.7961 - val_loss: 0.4382 - val_accuracy: 0.8541\n",
      "Epoch 9/1000\n",
      "1250/1250 [==============================] - 307s 246ms/step - loss: 0.5386 - accuracy: 0.8150 - val_loss: 0.4274 - val_accuracy: 0.8595\n",
      "Epoch 10/1000\n",
      "1250/1250 [==============================] - 307s 246ms/step - loss: 0.5028 - accuracy: 0.8277 - val_loss: 0.4175 - val_accuracy: 0.8630\n",
      "Epoch 11/1000\n",
      "1250/1250 [==============================] - 307s 246ms/step - loss: 0.4762 - accuracy: 0.8377 - val_loss: 0.3775 - val_accuracy: 0.8762\n",
      "Epoch 12/1000\n",
      "1250/1250 [==============================] - 308s 247ms/step - loss: 0.4538 - accuracy: 0.8440 - val_loss: 0.3835 - val_accuracy: 0.8708\n",
      "Epoch 13/1000\n",
      "1250/1250 [==============================] - 309s 247ms/step - loss: 0.4239 - accuracy: 0.8544 - val_loss: 0.3850 - val_accuracy: 0.8733\n",
      "\n",
      "Epoch 00013: ReduceLROnPlateau reducing learning rate to 1.9999999494757503e-05.\n",
      "Epoch 14/1000\n",
      "1250/1250 [==============================] - 310s 248ms/step - loss: 0.3745 - accuracy: 0.8700 - val_loss: 0.3429 - val_accuracy: 0.8874\n",
      "Epoch 15/1000\n",
      "1250/1250 [==============================] - 310s 248ms/step - loss: 0.3530 - accuracy: 0.8760 - val_loss: 0.3334 - val_accuracy: 0.8893\n",
      "Epoch 16/1000\n",
      "1250/1250 [==============================] - 310s 248ms/step - loss: 0.3352 - accuracy: 0.8833 - val_loss: 0.3303 - val_accuracy: 0.8902\n",
      "Epoch 17/1000\n",
      "1250/1250 [==============================] - 310s 248ms/step - loss: 0.3312 - accuracy: 0.8839 - val_loss: 0.3312 - val_accuracy: 0.8906\n",
      "Epoch 18/1000\n",
      "1250/1250 [==============================] - 310s 248ms/step - loss: 0.3209 - accuracy: 0.8875 - val_loss: 0.3264 - val_accuracy: 0.8912\n",
      "Epoch 19/1000\n",
      "1250/1250 [==============================] - 310s 248ms/step - loss: 0.3039 - accuracy: 0.8934 - val_loss: 0.3241 - val_accuracy: 0.8914\n",
      "Epoch 20/1000\n",
      "1250/1250 [==============================] - 311s 249ms/step - loss: 0.3048 - accuracy: 0.8945 - val_loss: 0.3203 - val_accuracy: 0.8928\n",
      "Epoch 21/1000\n",
      "1250/1250 [==============================] - 311s 249ms/step - loss: 0.2935 - accuracy: 0.9007 - val_loss: 0.3177 - val_accuracy: 0.8933\n",
      "Epoch 22/1000\n",
      "1250/1250 [==============================] - 312s 249ms/step - loss: 0.2878 - accuracy: 0.8984 - val_loss: 0.3203 - val_accuracy: 0.8916\n",
      "Epoch 23/1000\n",
      "1250/1250 [==============================] - 312s 249ms/step - loss: 0.2801 - accuracy: 0.9021 - val_loss: 0.3131 - val_accuracy: 0.8942\n",
      "Epoch 24/1000\n",
      "1250/1250 [==============================] - 312s 250ms/step - loss: 0.2717 - accuracy: 0.9063 - val_loss: 0.3148 - val_accuracy: 0.8932\n",
      "Epoch 25/1000\n",
      "1250/1250 [==============================] - 313s 250ms/step - loss: 0.2659 - accuracy: 0.9087 - val_loss: 0.3147 - val_accuracy: 0.8946\n",
      "Epoch 26/1000\n",
      "1250/1250 [==============================] - 313s 250ms/step - loss: 0.2708 - accuracy: 0.9063 - val_loss: 0.3145 - val_accuracy: 0.8949\n",
      "Epoch 27/1000\n",
      "1250/1250 [==============================] - 313s 250ms/step - loss: 0.2709 - accuracy: 0.9059 - val_loss: 0.3140 - val_accuracy: 0.8942\n",
      "Epoch 28/1000\n",
      "1250/1250 [==============================] - 313s 250ms/step - loss: 0.2502 - accuracy: 0.9100 - val_loss: 0.3124 - val_accuracy: 0.8961\n",
      "Epoch 29/1000\n",
      "1250/1250 [==============================] - 313s 251ms/step - loss: 0.2404 - accuracy: 0.9126 - val_loss: 0.3092 - val_accuracy: 0.8966\n",
      "Epoch 30/1000\n",
      "1250/1250 [==============================] - 313s 251ms/step - loss: 0.2509 - accuracy: 0.9128 - val_loss: 0.3132 - val_accuracy: 0.8965\n",
      "Epoch 31/1000\n",
      "1250/1250 [==============================] - 313s 250ms/step - loss: 0.2463 - accuracy: 0.9136 - val_loss: 0.3099 - val_accuracy: 0.8980\n",
      "Epoch 32/1000\n",
      "1250/1250 [==============================] - 313s 250ms/step - loss: 0.2421 - accuracy: 0.9174 - val_loss: 0.3078 - val_accuracy: 0.8973\n",
      "Epoch 33/1000\n",
      "1250/1250 [==============================] - 313s 251ms/step - loss: 0.2280 - accuracy: 0.9207 - val_loss: 0.3129 - val_accuracy: 0.8946\n",
      "\n",
      "Epoch 00033: ReduceLROnPlateau reducing learning rate to 3.999999898951501e-06.\n",
      "Epoch 34/1000\n",
      "1250/1250 [==============================] - 313s 251ms/step - loss: 0.2310 - accuracy: 0.9183 - val_loss: 0.3085 - val_accuracy: 0.8961\n",
      "Epoch 35/1000\n",
      "1250/1250 [==============================] - 314s 251ms/step - loss: 0.2153 - accuracy: 0.9217 - val_loss: 0.3065 - val_accuracy: 0.8974\n",
      "\n",
      "Epoch 00035: ReduceLROnPlateau reducing learning rate to 1e-06.\n",
      "Epoch 36/1000\n",
      "1250/1250 [==============================] - 313s 251ms/step - loss: 0.2137 - accuracy: 0.9238 - val_loss: 0.3064 - val_accuracy: 0.8974\n",
      "Epoch 00036: early stopping\n",
      "Ending Time： 2021-05-16 18:37:45.619367\n"
     ]
    }
   ],
   "source": [
    "steps_per_epoch = 1250\n",
    "epochs = 1000\n",
    "batch_size = 32\n",
    "\n",
    "reduce_lr = ReduceLROnPlateau(monitor='val_accuracy',factor=0.2,patience=2,verbose=1,\n",
    "                              min_delta=1e-4,min_lr=1e-6,mode='max')\n",
    "earlystopping = EarlyStopping(monitor='val_accuracy', min_delta=1e-4, patience=5,\n",
    "                                                 mode='max', verbose=1)\n",
    "callbacks = [earlystopping, reduce_lr]\n",
    "\n",
    "print('Starting Time：',datetime.datetime.now())\n",
    "model, history = train_efficientnet(x_train, y_train, steps_per_epoch, epochs, batch_size, callbacks)\n",
    "print('Ending Time：',datetime.datetime.now())"
   ]
  },
  {
   "cell_type": "code",
   "execution_count": 12,
   "id": "b1277de9",
   "metadata": {},
   "outputs": [
    {
     "name": "stdout",
     "output_type": "stream",
     "text": [
      "      y  pred\n",
      "0     3     3\n",
      "1     8     8\n",
      "2     8     8\n",
      "3     0     8\n",
      "4     6     6\n",
      "...  ..   ...\n",
      "9995  8     8\n",
      "9996  3     3\n",
      "9997  5     5\n",
      "9998  1     1\n",
      "9999  7     7\n",
      "\n",
      "[10000 rows x 2 columns]\n"
     ]
    }
   ],
   "source": [
    "preds = []\n",
    "X = x_test\n",
    "pred = model.predict(X)\n",
    "\n",
    "df_pred = pd.DataFrame(pred)\n",
    "pred = np.array(df_pred.idxmax(axis=1))\n",
    "df_pred = pd.DataFrame(pred)\n",
    "df_y = pd.DataFrame(y_test)\n",
    "df_result = pd.concat([df_y, df_pred], axis=1)\n",
    "df_result.columns = ['y','pred']\n",
    "print(df_result)"
   ]
  },
  {
   "cell_type": "code",
   "execution_count": 13,
   "id": "04249cba",
   "metadata": {},
   "outputs": [
    {
     "name": "stdout",
     "output_type": "stream",
     "text": [
      "Confusion Matrix:\n",
      "[[903  15  12   3  10   0   4   6  30  17]\n",
      " [  4 954   1   1   0   0   3   1   5  31]\n",
      " [ 19   1 872  28  23   8  31  10   3   5]\n",
      " [  6   8  25 761  29  84  56  14   4  13]\n",
      " [  1   2  28  20 897   4  22  24   1   1]\n",
      " [  3   1  13 125  24 767  27  32   3   5]\n",
      " [  4   1  14  11   2   2 965   1   0   0]\n",
      " [  6   2   6  15  15  15   4 933   3   1]\n",
      " [ 27  14   4   4   0   0   1   0 933  17]\n",
      " [  6  38   0   2   0   1   1   2   5 945]]\n",
      "Accuracy :0.8930\n",
      "Precision:0.8926\n",
      "Recall   :0.8930\n",
      "F_score  :0.8921\n"
     ]
    }
   ],
   "source": [
    "from sklearn.metrics import accuracy_score, precision_score, recall_score, f1_score, confusion_matrix\n",
    "print('Confusion Matrix:')\n",
    "print(confusion_matrix(df_result['y'],df_result['pred']))\n",
    "print('Accuracy :{:.4f}'.format(accuracy_score(df_result['y'],df_result['pred'])))\n",
    "print('Precision:{:.4f}'.format(precision_score(df_result['y'],df_result['pred'],average='macro')))\n",
    "print('Recall   :{:.4f}'.format(recall_score(df_result['y'],df_result['pred'],average='macro')))\n",
    "print('F_score  :{:.4f}'.format(f1_score(df_result['y'],df_result['pred'],average='macro')))"
   ]
  },
  {
   "cell_type": "markdown",
   "id": "b9cefe15",
   "metadata": {},
   "source": [
    "### Train ViT"
   ]
  },
  {
   "cell_type": "code",
   "execution_count": 14,
   "id": "7aaad63a",
   "metadata": {},
   "outputs": [
    {
     "name": "stdout",
     "output_type": "stream",
     "text": [
      "Starting Time： 2021-05-16 20:39:27.050198\n"
     ]
    },
    {
     "name": "stderr",
     "output_type": "stream",
     "text": [
      "/home/pongsakorn/tensorflow2/lib/python3.6/site-packages/vit_keras/utils.py:79: UserWarning: Resizing position embeddings from 24 to 2\n",
      "  UserWarning,\n",
      "/home/pongsakorn/tensorflow2/lib/python3.6/site-packages/tensorflow_addons/activations/gelu.py:80: UserWarning: Default value of `approximate` is changed from `True` to `False`\n",
      "  \"Default value of `approximate` is changed from `True` to `False`\"\n",
      "/home/pongsakorn/tensorflow2/lib/python3.6/site-packages/tensorflow/python/keras/engine/training.py:1844: UserWarning: `Model.fit_generator` is deprecated and will be removed in a future version. Please use `Model.fit`, which supports generators.\n",
      "  warnings.warn('`Model.fit_generator` is deprecated and '\n"
     ]
    },
    {
     "name": "stdout",
     "output_type": "stream",
     "text": [
      "Epoch 1/1000\n",
      "1250/1250 [==============================] - 197s 150ms/step - loss: 2.0654 - accuracy: 0.2775 - val_loss: 1.7395 - val_accuracy: 0.3805\n",
      "Epoch 2/1000\n",
      "1250/1250 [==============================] - 186s 149ms/step - loss: 1.7173 - accuracy: 0.3884 - val_loss: 1.6309 - val_accuracy: 0.4147\n",
      "Epoch 3/1000\n",
      "1250/1250 [==============================] - 190s 152ms/step - loss: 1.6309 - accuracy: 0.4206 - val_loss: 1.5713 - val_accuracy: 0.4333\n",
      "Epoch 4/1000\n",
      "1250/1250 [==============================] - 192s 154ms/step - loss: 1.5777 - accuracy: 0.4363 - val_loss: 1.4909 - val_accuracy: 0.4779\n",
      "Epoch 5/1000\n",
      "1250/1250 [==============================] - 193s 154ms/step - loss: 1.5148 - accuracy: 0.4622 - val_loss: 1.4491 - val_accuracy: 0.4878\n",
      "Epoch 6/1000\n",
      "1250/1250 [==============================] - 194s 155ms/step - loss: 1.4632 - accuracy: 0.4822 - val_loss: 1.4428 - val_accuracy: 0.4873\n",
      "Epoch 7/1000\n",
      "1250/1250 [==============================] - 195s 156ms/step - loss: 1.4491 - accuracy: 0.4835 - val_loss: 1.4769 - val_accuracy: 0.4899\n",
      "Epoch 8/1000\n",
      "1250/1250 [==============================] - 195s 156ms/step - loss: 1.4290 - accuracy: 0.4949 - val_loss: 1.3736 - val_accuracy: 0.5149\n",
      "Epoch 9/1000\n",
      "1250/1250 [==============================] - 196s 157ms/step - loss: 1.3795 - accuracy: 0.5136 - val_loss: 1.3962 - val_accuracy: 0.5081\n",
      "Epoch 10/1000\n",
      "1250/1250 [==============================] - 196s 157ms/step - loss: 1.3663 - accuracy: 0.5164 - val_loss: 1.4084 - val_accuracy: 0.5097\n",
      "\n",
      "Epoch 00010: ReduceLROnPlateau reducing learning rate to 1.9999999494757503e-05.\n",
      "Epoch 11/1000\n",
      "1250/1250 [==============================] - 196s 157ms/step - loss: 1.2923 - accuracy: 0.5431 - val_loss: 1.2617 - val_accuracy: 0.5565\n",
      "Epoch 12/1000\n",
      "1250/1250 [==============================] - 196s 157ms/step - loss: 1.2628 - accuracy: 0.5545 - val_loss: 1.2629 - val_accuracy: 0.5586\n",
      "Epoch 13/1000\n",
      "1250/1250 [==============================] - 197s 157ms/step - loss: 1.2323 - accuracy: 0.5685 - val_loss: 1.2550 - val_accuracy: 0.5626\n",
      "Epoch 14/1000\n",
      "1250/1250 [==============================] - 196s 157ms/step - loss: 1.2292 - accuracy: 0.5687 - val_loss: 1.2634 - val_accuracy: 0.5620\n",
      "Epoch 15/1000\n",
      "1250/1250 [==============================] - 196s 157ms/step - loss: 1.2221 - accuracy: 0.5696 - val_loss: 1.2125 - val_accuracy: 0.5794\n",
      "Epoch 16/1000\n",
      "1250/1250 [==============================] - 197s 158ms/step - loss: 1.2005 - accuracy: 0.5776 - val_loss: 1.2166 - val_accuracy: 0.5742\n",
      "Epoch 17/1000\n",
      "1250/1250 [==============================] - 196s 157ms/step - loss: 1.2056 - accuracy: 0.5778 - val_loss: 1.2294 - val_accuracy: 0.5694\n",
      "\n",
      "Epoch 00017: ReduceLROnPlateau reducing learning rate to 3.999999898951501e-06.\n",
      "Epoch 18/1000\n",
      "1250/1250 [==============================] - 196s 157ms/step - loss: 1.1849 - accuracy: 0.5905 - val_loss: 1.2090 - val_accuracy: 0.5749\n",
      "Epoch 19/1000\n",
      "1250/1250 [==============================] - 198s 158ms/step - loss: 1.1690 - accuracy: 0.5931 - val_loss: 1.2097 - val_accuracy: 0.5778\n",
      "\n",
      "Epoch 00019: ReduceLROnPlateau reducing learning rate to 1e-06.\n",
      "Epoch 20/1000\n",
      "1250/1250 [==============================] - 197s 157ms/step - loss: 1.1691 - accuracy: 0.5913 - val_loss: 1.2106 - val_accuracy: 0.5795\n",
      "Epoch 21/1000\n",
      "1250/1250 [==============================] - 197s 158ms/step - loss: 1.1471 - accuracy: 0.5986 - val_loss: 1.2091 - val_accuracy: 0.5783\n",
      "Epoch 22/1000\n",
      "1250/1250 [==============================] - 197s 157ms/step - loss: 1.1611 - accuracy: 0.5933 - val_loss: 1.2040 - val_accuracy: 0.5793\n",
      "Epoch 23/1000\n",
      "1250/1250 [==============================] - 197s 158ms/step - loss: 1.1582 - accuracy: 0.5933 - val_loss: 1.2084 - val_accuracy: 0.5782\n",
      "Epoch 24/1000\n",
      "1250/1250 [==============================] - 197s 157ms/step - loss: 1.1600 - accuracy: 0.5931 - val_loss: 1.2028 - val_accuracy: 0.5784\n",
      "Epoch 25/1000\n",
      "1250/1250 [==============================] - 197s 158ms/step - loss: 1.1551 - accuracy: 0.5947 - val_loss: 1.2050 - val_accuracy: 0.5793\n",
      "Epoch 00025: early stopping\n",
      "Ending Time： 2021-05-16 22:00:57.034830\n"
     ]
    }
   ],
   "source": [
    "steps_per_epoch = 1250\n",
    "epochs = 1000\n",
    "batch_size = 32\n",
    "\n",
    "reduce_lr = ReduceLROnPlateau(monitor='val_accuracy',factor=0.2,patience=2,verbose=1,\n",
    "                              min_delta=1e-4,min_lr=1e-6,mode='max')\n",
    "earlystopping = EarlyStopping(monitor='val_accuracy', min_delta=1e-4, patience=5,\n",
    "                                                 mode='max', verbose=1)\n",
    "callbacks = [earlystopping, reduce_lr]\n",
    "\n",
    "print('Starting Time：',datetime.datetime.now())\n",
    "model, history = train_vit(x_train, y_train, steps_per_epoch, epochs, batch_size, callbacks)\n",
    "print('Ending Time：',datetime.datetime.now())"
   ]
  },
  {
   "cell_type": "code",
   "execution_count": 15,
   "id": "7e5b49ed",
   "metadata": {},
   "outputs": [
    {
     "name": "stdout",
     "output_type": "stream",
     "text": [
      "      y  pred\n",
      "0     3     3\n",
      "1     8     8\n",
      "2     8     8\n",
      "3     0     0\n",
      "4     6     6\n",
      "...  ..   ...\n",
      "9995  8     8\n",
      "9996  3     5\n",
      "9997  5     3\n",
      "9998  1     4\n",
      "9999  7     7\n",
      "\n",
      "[10000 rows x 2 columns]\n"
     ]
    }
   ],
   "source": [
    "preds = []\n",
    "X = x_test\n",
    "pred = model.predict(X)\n",
    "\n",
    "df_pred = pd.DataFrame(pred)\n",
    "pred = np.array(df_pred.idxmax(axis=1))\n",
    "df_pred = pd.DataFrame(pred)\n",
    "df_y = pd.DataFrame(y_test)\n",
    "df_result = pd.concat([df_y, df_pred], axis=1)\n",
    "df_result.columns = ['y','pred']\n",
    "print(df_result)"
   ]
  },
  {
   "cell_type": "code",
   "execution_count": 16,
   "id": "e5e9da62",
   "metadata": {},
   "outputs": [
    {
     "name": "stdout",
     "output_type": "stream",
     "text": [
      "Confusion Matrix:\n",
      "[[635  61  33  19  12  13  32  28 104  63]\n",
      " [ 31 709   7   6   5   5  14  25  23 175]\n",
      " [ 71  32 405  57  93  75 130  79  26  32]\n",
      " [ 25  41  64 327  43 218 147  62  20  53]\n",
      " [ 32  20  72  40 461  42 155 142  16  20]\n",
      " [ 22  12  53 180  48 444 102  98  12  29]\n",
      " [ 12  15  37  37  46  29 760  31  13  20]\n",
      " [ 21  24  17  37  46  61  37 694  10  53]\n",
      " [ 94  65   9  19  16   7   7   9 700  74]\n",
      " [ 37 188   4  14   4   8  14  33  35 663]]\n",
      "Accuracy :0.5798\n",
      "Precision:0.5778\n",
      "Recall   :0.5798\n",
      "F_score  :0.5722\n"
     ]
    }
   ],
   "source": [
    "from sklearn.metrics import accuracy_score, precision_score, recall_score, f1_score, confusion_matrix\n",
    "print('Confusion Matrix:')\n",
    "print(confusion_matrix(df_result['y'],df_result['pred']))\n",
    "print('Accuracy :{:.4f}'.format(accuracy_score(df_result['y'],df_result['pred'])))\n",
    "print('Precision:{:.4f}'.format(precision_score(df_result['y'],df_result['pred'],average='macro')))\n",
    "print('Recall   :{:.4f}'.format(recall_score(df_result['y'],df_result['pred'],average='macro')))\n",
    "print('F_score  :{:.4f}'.format(f1_score(df_result['y'],df_result['pred'],average='macro')))"
   ]
  },
  {
   "cell_type": "code",
   "execution_count": null,
   "id": "39ca4f25",
   "metadata": {},
   "outputs": [],
   "source": []
  },
  {
   "cell_type": "code",
   "execution_count": null,
   "id": "3f009fdc",
   "metadata": {},
   "outputs": [],
   "source": []
  }
 ],
 "metadata": {
  "kernelspec": {
   "display_name": "Python 3",
   "language": "python",
   "name": "python3"
  },
  "language_info": {
   "codemirror_mode": {
    "name": "ipython",
    "version": 3
   },
   "file_extension": ".py",
   "mimetype": "text/x-python",
   "name": "python",
   "nbconvert_exporter": "python",
   "pygments_lexer": "ipython3",
   "version": "3.6.9"
  }
 },
 "nbformat": 4,
 "nbformat_minor": 5
}
