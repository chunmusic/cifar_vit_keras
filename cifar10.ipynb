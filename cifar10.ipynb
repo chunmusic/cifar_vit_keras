{
 "cells": [
  {
   "cell_type": "code",
   "execution_count": 1,
   "id": "117a8819",
   "metadata": {},
   "outputs": [],
   "source": [
    "import os\n",
    "os.environ['PYTHONHASHSEED'] = '0'\n",
    "import tensorflow as tf\n",
    "os.environ['TF_DETERMINISTIC_OPS'] = 'true'\n",
    "os.environ['TF_CUDNN_DETERMINISTIC'] = 'true'\n",
    "import numpy as np\n",
    "import random as rn"
   ]
  },
  {
   "cell_type": "code",
   "execution_count": 2,
   "id": "aef5fa4d",
   "metadata": {},
   "outputs": [],
   "source": [
    "SEED = 123\n",
    "def reset_random_seeds():\n",
    "    tf.random.set_seed(SEED)\n",
    "    np.random.seed(SEED)\n",
    "    rn.seed(SEED)"
   ]
  },
  {
   "cell_type": "code",
   "execution_count": 3,
   "id": "c23c0074",
   "metadata": {},
   "outputs": [],
   "source": [
    "reset_random_seeds()    \n",
    "\n",
    "session_conf = tf.compat.v1.ConfigProto(intra_op_parallelism_threads=32, inter_op_parallelism_threads=32)\n",
    "tf.compat.v1.set_random_seed(SEED)\n",
    "sess = tf.compat.v1.Session(graph=tf.compat.v1.get_default_graph(), config=session_conf)"
   ]
  },
  {
   "cell_type": "code",
   "execution_count": 4,
   "id": "021dd6b8",
   "metadata": {},
   "outputs": [],
   "source": [
    "import pandas as pd\n",
    "import cv2\n",
    "\n",
    "from tensorflow.keras.models import Sequential\n",
    "from tensorflow.keras.layers import Dense, BatchNormalization,Flatten\n",
    "\n",
    "from tensorflow.keras.utils import to_categorical\n",
    "from tensorflow.keras.preprocessing.image import ImageDataGenerator\n",
    "\n",
    "from tensorflow.keras import optimizers\n",
    "from tensorflow.keras.callbacks import ReduceLROnPlateau, EarlyStopping\n",
    "import tensorflow_addons as tfa\n",
    "\n",
    "from vit_keras import vit, utils\n",
    "\n",
    "from sklearn.model_selection import train_test_split\n",
    "from tensorflow.keras.datasets import cifar10"
   ]
  },
  {
   "cell_type": "code",
   "execution_count": 5,
   "id": "276c1b2f",
   "metadata": {},
   "outputs": [],
   "source": [
    "(x_train, y_train), (x_test, y_test) = cifar10.load_data()"
   ]
  },
  {
   "cell_type": "code",
   "execution_count": 6,
   "id": "6acc8967",
   "metadata": {},
   "outputs": [],
   "source": [
    "image_size = 128 \n",
    "input_shape=(image_size,image_size,3)\n",
    "num_classes = 10"
   ]
  },
  {
   "cell_type": "code",
   "execution_count": 7,
   "id": "f3f769bd",
   "metadata": {},
   "outputs": [],
   "source": [
    "def upscale(image):\n",
    "    size = len(image)\n",
    "    data_upscaled = np.zeros((size, image_size, image_size, 3,))\n",
    "    for i in range(len(image)):\n",
    "        data_upscaled[i] = cv2.resize(image[i], dsize=(image_size, image_size), interpolation=cv2.INTER_CUBIC)\n",
    "    image = np.array(data_upscaled, dtype=np.int)\n",
    "    \n",
    "    return image"
   ]
  },
  {
   "cell_type": "code",
   "execution_count": null,
   "id": "6e98b6af",
   "metadata": {},
   "outputs": [],
   "source": [
    "x_train = upscale(x_train)\n",
    "x_test  = upscale(x_test)"
   ]
  },
  {
   "cell_type": "code",
   "execution_count": null,
   "id": "2e15773e",
   "metadata": {},
   "outputs": [],
   "source": [
    "def buildModel_ViT():\n",
    "    vit_model = vit.vit_b16(\n",
    "        image_size = image_size,\n",
    "        activation = 'sigmoid',\n",
    "        pretrained = True,\n",
    "        include_top = False,\n",
    "        pretrained_top = False)\n",
    "    model = tf.keras.Sequential([\n",
    "        vit_model,\n",
    "        tf.keras.layers.Flatten(),\n",
    "        tf.keras.layers.BatchNormalization(),\n",
    "        tf.keras.layers.Dense(21, activation = tfa.activations.gelu),\n",
    "        tf.keras.layers.BatchNormalization(),\n",
    "        tf.keras.layers.Dense(num_classes, 'softmax')\n",
    "    ],\n",
    "    name = 'vision_transformer')\n",
    "    model.compile(optimizer=optimizers.Adam(learning_rate=1e-4), loss=\"categorical_crossentropy\", metrics=[\"accuracy\"])\n",
    "    \n",
    "    return model"
   ]
  },
  {
   "cell_type": "code",
   "execution_count": null,
   "id": "6bdba84b",
   "metadata": {},
   "outputs": [],
   "source": [
    "def train_vit_holdout(X, y, steps_per_epoch, epochs, batch_size, callbacks):\n",
    "    # 訓練データと評価データの分割\n",
    "    X_train, X_valid, y_train, y_valid = train_test_split(X, y, test_size=0.2, stratify=y, shuffle=True)\n",
    "    y_train = to_categorical(y_train)\n",
    "    y_valid = to_categorical(y_valid)\n",
    "    \n",
    "    # Data Augumentation\n",
    "    datagen = ImageDataGenerator(rotation_range=20, horizontal_flip=True, zoom_range=0.2)\n",
    "    train_generator = datagen.flow(X_train, y_train,batch_size=batch_size)\n",
    "        \n",
    "    # モデル構築\n",
    "    model = buildModel_ViT()\n",
    "\n",
    "    # 学習\n",
    "    history = model.fit(train_generator,\n",
    "                        steps_per_epoch=steps_per_epoch,\n",
    "                        epochs=epochs,\n",
    "                        validation_data=(X_valid, y_valid),\n",
    "                        callbacks=callbacks,\n",
    "                        shuffle=True\n",
    "                       )\n",
    "    \n",
    "    return model, history"
   ]
  },
  {
   "cell_type": "code",
   "execution_count": null,
   "id": "9e38d7ea",
   "metadata": {},
   "outputs": [],
   "source": [
    "batch_size = 32\n",
    "steps_per_epoch = 1250 # trainデータ=40,000、バッチサイズ=32なので40,000/32=1250とした。\n",
    "epochs = 1000 # とにかく大きい数字を指定。EarlyStoppingで止まることを期待。\n",
    "\n",
    "reduce_lr = ReduceLROnPlateau(monitor='val_accuracy',\n",
    "                              factor=0.2,\n",
    "                              patience=2,\n",
    "                              verbose=1,\n",
    "                              min_delta=1e-4,\n",
    "                              min_lr=1e-6,\n",
    "                              mode='max'\n",
    "                             )\n",
    "earlystopping = EarlyStopping(monitor='val_accuracy',\n",
    "                              min_delta=1e-4,\n",
    "                              patience=5,\n",
    "                              mode='max',\n",
    "                              verbose=1\n",
    "                             )\n",
    "callbacks = [earlystopping, reduce_lr]\n",
    "\n",
    "model, history = train_vit_holdout(x_train, y_train, steps_per_epoch, epochs, batch_size, callbacks)\n"
   ]
  },
  {
   "cell_type": "code",
   "execution_count": null,
   "id": "e949f913",
   "metadata": {},
   "outputs": [],
   "source": [
    "X = x_test\n",
    "pred = model.predict(X)\n",
    "\n",
    "# 予測結果の確認\n",
    "df_pred = pd.DataFrame(pred)\n",
    "pred = np.array(df_pred.idxmax(axis=1))\n",
    "df_pred = pd.DataFrame(pred)\n",
    "df_y = pd.DataFrame(y_test)\n",
    "df_result = pd.concat([df_y, df_pred], axis=1, join_axes=[df_y.index])\n",
    "df_result.columns = ['y','pred']\n",
    "display(df_result)"
   ]
  },
  {
   "cell_type": "code",
   "execution_count": null,
   "id": "8ae90f66",
   "metadata": {},
   "outputs": [],
   "source": [
    "from sklearn.metrics import accuracy_score, precision_score, recall_score, f1_score, confusion_matrix\n",
    "print('Confusion Matrix:')\n",
    "print(confusion_matrix(df_result['y'],df_result['pred']))\n",
    "print()\n",
    "print('Accuracy :{:.4f}'.format(accuracy_score(df_result['y'],df_result['pred'])))\n",
    "print('Precision:{:.4f}'.format(precision_score(df_result['y'],df_result['pred'],average='macro')))\n",
    "print('Recall   :{:.4f}'.format(recall_score(df_result['y'],df_result['pred'],average='macro')))\n",
    "print('F_score  :{:.4f}'.format(f1_score(df_result['y'],df_result['pred'],average='macro')))"
   ]
  }
 ],
 "metadata": {
  "kernelspec": {
   "display_name": "Python 3",
   "language": "python",
   "name": "python3"
  },
  "language_info": {
   "codemirror_mode": {
    "name": "ipython",
    "version": 3
   },
   "file_extension": ".py",
   "mimetype": "text/x-python",
   "name": "python",
   "nbconvert_exporter": "python",
   "pygments_lexer": "ipython3",
   "version": "3.6.9"
  }
 },
 "nbformat": 4,
 "nbformat_minor": 5
}
